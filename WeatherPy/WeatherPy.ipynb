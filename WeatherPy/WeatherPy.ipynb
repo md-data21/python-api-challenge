{
 "cells": [
  {
   "cell_type": "markdown",
   "metadata": {},
   "source": [
    "# WeatherPy\n",
    "----\n",
    "\n",
    "#### Note\n",
    "* Instructions have been included for each segment. You do not have to follow them exactly, but they are included to help you think through the steps."
   ]
  },
  {
   "cell_type": "code",
   "execution_count": 1,
   "metadata": {
    "scrolled": true
   },
   "outputs": [],
   "source": [
    "# Dependencies and Setup\n",
    "import matplotlib.pyplot as plt\n",
    "import pandas as pd\n",
    "import numpy as np\n",
    "import requests\n",
    "import time\n",
    "from scipy.stats import linregress\n",
    "import scipy.stats as st\n",
    "from pprint import pprint\n",
    "\n",
    "# Import API key\n",
    "from api_keys import weather_api_key\n",
    "\n",
    "# Incorporated citipy to determine city based on latitude and longitude\n",
    "from citipy import citipy\n",
    "\n",
    "# Output File (CSV)\n",
    "output_data_file = \"output_data/cities.csv\"\n",
    "\n",
    "# Range of latitudes and longitudes\n",
    "lat_range = (-90, 90)\n",
    "lng_range = (-180, 180)"
   ]
  },
  {
   "cell_type": "markdown",
   "metadata": {},
   "source": [
    "## Generate Cities List"
   ]
  },
  {
   "cell_type": "code",
   "execution_count": 2,
   "metadata": {},
   "outputs": [
    {
     "data": {
      "text/plain": [
       "644"
      ]
     },
     "execution_count": 2,
     "metadata": {},
     "output_type": "execute_result"
    }
   ],
   "source": [
    "# List for holding lat_lngs and cities\n",
    "lat_lngs = []\n",
    "cities = []\n",
    "\n",
    "# Create a set of random lat and lng combinations\n",
    "lats = np.random.uniform(lat_range[0], lat_range[1], size=1500)\n",
    "lngs = np.random.uniform(lng_range[0], lng_range[1], size=1500)\n",
    "lat_lngs = zip(lats, lngs)\n",
    "\n",
    "# Identify nearest city for each lat, lng combination\n",
    "for lat_lng in lat_lngs:\n",
    "    city = citipy.nearest_city(lat_lng[0], lat_lng[1]).city_name\n",
    "    \n",
    "    # If the city is unique, then add it to a our cities list\n",
    "    if city not in cities:\n",
    "        cities.append(city)\n",
    "\n",
    "# Print the city count to confirm sufficient count\n",
    "len(cities)"
   ]
  },
  {
   "cell_type": "markdown",
   "metadata": {},
   "source": [
    "### Perform API Calls\n",
    "* Perform a weather check on each city using a series of successive API calls.\n",
    "* Include a print log of each city as it'sbeing processed (with the city number and city name).\n"
   ]
  },
  {
   "cell_type": "code",
   "execution_count": 3,
   "metadata": {
    "scrolled": true
   },
   "outputs": [],
   "source": [
    "#Save config information\n",
    "url = \"https://api.openweathermap.org/data/2.5/weather?\"\n",
    "units = \"imperial\"\n",
    "\n",
    "#Build partial query URL\n",
    "query_url =f\"{url}appid={weather_api_key}&units={units}&q=\"\n",
    "    "
   ]
  },
  {
   "cell_type": "code",
   "execution_count": 4,
   "metadata": {},
   "outputs": [
    {
     "name": "stdout",
     "output_type": "stream",
     "text": [
      "1 mataura\n",
      "2 msowero\n",
      "3 hilo\n",
      "4 saskylakh\n",
      "5 nikolskoye\n",
      "6 marzuq\n",
      "7 kutum\n",
      "8 gazanjyk\n",
      "9 teeli\n",
      "10 esperance\n",
      "11 chokurdakh\n",
      "12 jamestown\n",
      "13 ubinskoye\n",
      "14 constitucion\n",
      "15 arraial do cabo\n",
      "16 ushuaia\n",
      "17 kawalu\n",
      "18 hambantota\n",
      "19 cape town\n",
      "20 provideniya\n",
      "21 goderich\n",
      "22 mys shmidta not found\n",
      "23 luis correia\n",
      "24 punta arenas\n",
      "25 thompson\n",
      "26 hobart\n",
      "27 kruisfontein\n",
      "28 tarata\n",
      "29 tasiilaq\n",
      "30 bonavista\n",
      "31 berestechko\n",
      "32 caravelas\n",
      "33 nioro\n",
      "34 mar del plata\n",
      "35 tuatapere\n",
      "36 puerto ayora\n",
      "37 half moon bay\n",
      "38 upernavik\n",
      "39 illoqqortoormiut not found\n",
      "40 atuona\n",
      "41 lasa\n",
      "42 weligama\n",
      "43 iquique\n",
      "44 albany\n",
      "45 rock springs\n",
      "46 rikitea\n",
      "47 fort nelson\n",
      "48 longyearbyen\n",
      "49 scottsbluff\n",
      "50 marsaxlokk\n",
      "51 villeneuve-sur-lot\n",
      "52 bredasdorp\n",
      "53 cabedelo\n",
      "54 kalmunai\n",
      "55 talnakh\n",
      "56 busselton\n",
      "57 husavik\n",
      "58 juneau\n",
      "59 kihei\n",
      "60 divo\n",
      "61 aklavik\n",
      "62 kavaratti\n",
      "63 camana\n",
      "64 richards bay\n",
      "65 lumphat\n",
      "66 palmer\n",
      "67 kudahuvadhoo\n",
      "68 lorengau\n",
      "69 katsuura\n",
      "70 murray bridge\n",
      "71 diego de almagro\n",
      "72 hermanus\n",
      "73 hithadhoo\n",
      "74 faanui\n",
      "75 ribeira grande\n",
      "76 shirokiy\n",
      "77 mackay\n",
      "78 voyvozh\n",
      "79 winnemucca\n",
      "80 mnogovershinnyy\n",
      "81 micheweni\n",
      "82 belyy yar\n",
      "83 nelson bay\n",
      "84 ballina\n",
      "85 arica\n",
      "86 vila franca do campo\n",
      "87 salalah\n",
      "88 reconquista\n",
      "89 barrow\n",
      "90 khatanga\n",
      "91 petropavlovsk-kamchatskiy\n",
      "92 port alfred\n",
      "93 pisco\n",
      "94 pitimbu\n",
      "95 amderma not found\n",
      "96 marawi\n",
      "97 bengkulu\n",
      "98 cockburn town\n",
      "99 dhrol\n",
      "100 tabou\n",
      "101 port hedland\n",
      "102 kodiak\n",
      "103 taolanaro not found\n",
      "104 rawson\n",
      "105 yarmouth\n",
      "106 ulaangom\n",
      "107 thilogne not found\n",
      "108 castro\n",
      "109 boa vista\n",
      "110 kamiiso\n",
      "111 inuvik\n",
      "112 tiksi\n",
      "113 antalaha\n",
      "114 tilichiki\n",
      "115 ray\n",
      "116 saleaula not found\n",
      "117 imperial\n",
      "118 isangel\n",
      "119 hollins\n",
      "120 guerrero negro\n",
      "121 kunming\n",
      "122 bethel\n",
      "123 artyk not found\n",
      "124 sungaipenuh\n",
      "125 batouri\n",
      "126 bluff\n",
      "127 lata\n",
      "128 belushya guba not found\n",
      "129 ponta do sol\n",
      "130 codrington\n",
      "131 wanaka\n",
      "132 pevek\n",
      "133 new norfolk\n",
      "134 korcula\n",
      "135 kapaa\n",
      "136 czluchow\n",
      "137 luderitz\n",
      "138 victoria\n",
      "139 merauke\n",
      "140 georgetown\n",
      "141 koboko\n",
      "142 tambovka\n",
      "143 tsihombe not found\n",
      "144 itarema\n",
      "145 midland\n",
      "146 mareeba\n",
      "147 narsaq\n",
      "148 cidreira\n",
      "149 dikson\n",
      "150 nueva concepcion\n",
      "151 vaini\n",
      "152 gonen\n",
      "153 praia da vitoria\n",
      "154 prince rupert\n",
      "155 akureyri\n",
      "156 port elizabeth\n",
      "157 bandarbeyla\n",
      "158 mahebourg\n",
      "159 saint-philippe\n",
      "160 finschhafen\n",
      "161 bharatpur\n",
      "162 shangrao\n",
      "163 tuktoyaktuk\n",
      "164 arona\n",
      "165 tawkar not found\n",
      "166 kaitangata\n",
      "167 ensenada\n",
      "168 wyndham\n",
      "169 torbay\n",
      "170 linxia\n",
      "171 bilibino\n",
      "172 klaksvik\n",
      "173 bam\n",
      "174 aksarka\n",
      "175 vestmannaeyjar\n",
      "176 playa vicente\n",
      "177 saint-leu\n",
      "178 bagdarin\n",
      "179 emba\n",
      "180 saint-pierre\n",
      "181 sakakah\n",
      "182 kemin\n",
      "183 hasaki\n",
      "184 east london\n",
      "185 yellowknife\n",
      "186 ust-omchug\n",
      "187 saint george\n",
      "188 port blair\n",
      "189 obo\n",
      "190 am timan\n",
      "191 ostrovnoy\n",
      "192 jumla\n",
      "193 tshane\n",
      "194 troitsko-pechorsk\n",
      "195 neuquen\n",
      "196 pangnirtung\n",
      "197 kanniyakumari\n",
      "198 cherskiy\n",
      "199 luchegorsk\n",
      "200 devils lake\n",
      "201 winchester\n",
      "202 yugorsk\n",
      "203 chuy\n",
      "204 ewo\n",
      "205 rolim de moura not found\n",
      "206 pedernales\n",
      "207 shenjiamen\n",
      "208 tungkang not found\n",
      "209 airai\n",
      "210 semnan\n",
      "211 sirnak\n",
      "212 jinchang\n",
      "213 qaanaaq\n",
      "214 clyde river\n",
      "215 sentyabrskiy not found\n",
      "216 tiznit\n",
      "217 zaltan\n",
      "218 stornoway\n",
      "219 ushtobe\n",
      "220 gigmoto\n",
      "221 avarua\n",
      "222 komsomolskiy\n",
      "223 makakilo city\n",
      "224 beruni not found\n",
      "225 coquimbo\n",
      "226 ranong\n",
      "227 plouzane\n",
      "228 carnarvon\n",
      "229 beloha\n",
      "230 san ramon de la nueva oran\n",
      "231 palauig\n",
      "232 cabo san lucas\n",
      "233 attawapiskat not found\n",
      "234 vao\n",
      "235 mingrelskaya\n",
      "236 rundu\n",
      "237 tommot\n",
      "238 aripuana\n",
      "239 maturin\n",
      "240 antofagasta\n",
      "241 oneonta\n",
      "242 taltal\n",
      "243 asau\n",
      "244 pizarro\n",
      "245 leh\n",
      "246 chapais\n",
      "247 misratah\n",
      "248 port-cartier\n",
      "249 touros\n",
      "250 loukhi\n",
      "251 samusu not found\n",
      "252 sovetskiy\n",
      "253 alta floresta\n",
      "254 dongsheng\n",
      "255 ifo\n",
      "256 iqaluit\n",
      "257 svetlogorsk\n",
      "258 samaipata\n",
      "259 high level\n",
      "260 tairua\n",
      "261 los llanos de aridane\n",
      "262 gat\n",
      "263 albacete\n",
      "264 springfield\n",
      "265 vila velha\n",
      "266 coihaique\n",
      "267 ponta delgada\n",
      "268 faya\n",
      "269 beaufort\n",
      "270 calama\n",
      "271 wahran not found\n",
      "272 eidfjord\n",
      "273 tecoanapa\n",
      "274 naryan-mar\n",
      "275 lebu\n",
      "276 coahuayana\n",
      "277 penha\n",
      "278 san cristobal\n",
      "279 butaritari\n",
      "280 ruzhyn\n",
      "281 bria\n",
      "282 kavieng\n",
      "283 koumra\n",
      "284 roma\n",
      "285 fairbanks\n",
      "286 whitehorse\n",
      "287 erzin\n",
      "288 aswan\n",
      "289 paradwip not found\n",
      "290 mata\n",
      "291 bambous virieux\n",
      "292 souillac\n",
      "293 mayumba\n",
      "294 skjervoy\n",
      "295 moerai\n",
      "296 acari\n",
      "297 hunza not found\n",
      "298 svetlaya\n",
      "299 vardo\n",
      "300 shibetsu\n",
      "301 westport\n",
      "302 raga\n",
      "303 maragogi\n",
      "304 norman wells\n",
      "305 kyra\n",
      "306 sikasso\n",
      "307 pozo colorado\n",
      "308 marang\n",
      "309 leningradskiy\n",
      "310 grand river south east not found\n",
      "311 hami\n",
      "312 mae sot\n",
      "313 armidale\n",
      "314 mount gambier\n",
      "315 banjar\n",
      "316 ostrow wielkopolski\n",
      "317 ketchikan\n",
      "318 nome\n",
      "319 nanortalik\n",
      "320 oranjemund\n",
      "321 kindu\n",
      "322 oliver\n",
      "323 padang\n",
      "324 tanda\n",
      "325 luanda\n",
      "326 cananeia\n",
      "327 margate\n",
      "328 puerto del rosario\n",
      "329 kawana waters not found\n",
      "330 aksu\n",
      "331 manicore\n",
      "332 monster\n",
      "333 tucuma\n",
      "334 severo-kurilsk\n",
      "335 zhezkazgan\n",
      "336 poladpur\n",
      "337 la asuncion\n",
      "338 rungata not found\n",
      "339 baoqing\n",
      "340 kenai\n",
      "341 wolmaranstad not found\n",
      "342 horki\n",
      "343 porto novo\n",
      "344 camapua\n",
      "345 seguela\n",
      "346 nanakuli\n",
      "347 wangkui\n",
      "348 sisimiut\n",
      "349 mao\n",
      "350 muros\n",
      "351 paragominas\n",
      "352 pouembout\n",
      "353 saint-louis\n",
      "354 marshfield\n",
      "355 podosinovets\n",
      "356 dingle\n",
      "357 kajiado\n",
      "358 asmara\n",
      "359 san patricio\n",
      "360 buctzotz\n",
      "361 barcelona\n",
      "362 noormarkku\n",
      "363 yulara\n",
      "364 nizhneyansk not found\n",
      "365 kampong thum\n",
      "366 carlos barbosa\n",
      "367 makurdi\n",
      "368 dois vizinhos\n",
      "369 basco\n",
      "370 breves\n",
      "371 tura\n",
      "372 sao filipe\n",
      "373 mananara\n",
      "374 bulawayo\n",
      "375 russell\n",
      "376 barentsburg not found\n",
      "377 tigil\n",
      "378 yanan not found\n",
      "379 nalut\n",
      "380 byron bay\n",
      "381 meulaboh\n",
      "382 seoul\n",
      "383 borovskoy\n",
      "384 catuday\n",
      "385 kytlym not found\n",
      "386 poso\n",
      "387 sibolga\n",
      "388 kieta\n",
      "389 gwadar\n",
      "390 geraldton\n",
      "391 te anau\n",
      "392 henties bay\n",
      "393 zachagansk not found\n",
      "394 port hueneme\n",
      "395 port hardy\n",
      "396 pingliang\n",
      "397 chihuahua\n",
      "398 brownsburg\n",
      "399 poum\n",
      "400 mae chan\n",
      "401 maha sarakham\n",
      "402 nam tha not found\n",
      "403 dawson creek\n",
      "404 nurota\n",
      "405 porto tolle\n",
      "406 quime\n",
      "407 tidore not found\n",
      "408 payo\n",
      "409 vaitupu not found\n",
      "410 tucuman\n",
      "411 yumen\n",
      "412 ovalle\n",
      "413 adrar\n",
      "414 lenger\n",
      "415 damghan\n",
      "416 simao\n",
      "417 progreso\n",
      "418 rocha\n",
      "419 yerbogachen\n",
      "420 miri\n",
      "421 ilo\n",
      "422 caohai\n",
      "423 verkhnevilyuysk\n",
      "424 calbuco\n",
      "425 barkly west\n",
      "426 sioux lookout\n",
      "427 kupang\n",
      "428 rafai\n",
      "429 tual\n",
      "430 portland\n",
      "431 sorland\n",
      "432 pointe michel\n",
      "433 salinas\n",
      "434 fuling\n",
      "435 novopskov\n",
      "436 san francisco del mar\n",
      "437 sao miguel do araguaia\n",
      "438 riyadh\n",
      "439 sangar\n",
      "440 longonjo\n",
      "441 ukiah\n",
      "442 acarau\n",
      "443 toyooka\n",
      "444 rio claro\n",
      "445 liverpool\n",
      "446 lauterbach\n",
      "447 tokat\n",
      "448 la vergne\n",
      "449 waipawa\n",
      "450 bathsheba\n",
      "451 north battleford\n",
      "452 zalesovo\n",
      "453 beyneu\n",
      "454 korla\n",
      "455 barra do garcas\n",
      "456 bolungarvik not found\n",
      "457 west bay\n",
      "458 flinders\n",
      "459 catia la mar\n",
      "460 piacabucu\n",
      "461 rohru\n",
      "462 sayat\n",
      "463 severo-yeniseyskiy\n",
      "464 umm lajj\n",
      "465 pahasu\n",
      "466 sechura\n",
      "467 lagoa\n",
      "468 peace river\n",
      "469 boende\n",
      "470 viramgam\n",
      "471 palabuhanratu not found\n",
      "472 alekseyevsk\n",
      "473 thurso\n",
      "474 kazalinsk not found\n",
      "475 hobyo\n",
      "476 winona\n",
      "477 atambua\n",
      "478 araouane\n",
      "479 shetpe\n",
      "480 sterlibashevo\n",
      "481 saurimo\n",
      "482 muroto\n",
      "483 broome\n",
      "484 santa rosa\n",
      "485 damavand\n",
      "486 saint-vallier\n",
      "487 podgorodnyaya pokrovka\n",
      "488 markova\n",
      "489 bembereke\n",
      "490 evensk\n",
      "491 kulhudhuffushi\n",
      "492 asyut\n",
      "493 necochea\n",
      "494 hamilton\n",
      "495 dzhebariki-khaya\n",
      "496 mansehra\n",
      "497 katobu\n",
      "498 omsukchan\n",
      "499 labuhan\n",
      "500 segesd\n",
      "501 corn island\n",
      "502 puerto cabezas\n",
      "503 sept-iles\n",
      "504 ust-tsilma\n",
      "505 rajapur\n",
      "506 nyurba\n",
      "507 teya\n",
      "508 banda aceh\n",
      "509 moron\n",
      "510 bemidji\n",
      "511 kuusamo\n",
      "512 bargal not found\n",
      "513 puerto escondido\n",
      "514 galle\n",
      "515 kaeo\n",
      "516 zhoukou\n",
      "517 eyemouth\n",
      "518 huarmey\n",
      "519 christchurch\n",
      "520 ndende\n",
      "521 espanola\n",
      "522 chokwe\n",
      "523 cukai\n",
      "524 shache\n",
      "525 richard toll not found\n",
      "526 uyemskiy\n",
      "527 bogorodskoye\n",
      "528 ibra\n",
      "529 hermiston\n",
      "530 san vicente\n",
      "531 santa ines\n",
      "532 caruray\n",
      "533 handwara not found\n",
      "534 cravo norte\n",
      "535 tumannyy not found\n",
      "536 okhotsk\n",
      "537 batalha\n",
      "538 kitami\n",
      "539 vestmanna\n",
      "540 ilulissat\n",
      "541 turayf\n",
      "542 wasco\n",
      "543 dragor\n",
      "544 vangaindrano\n",
      "545 tendo\n",
      "546 cap malheureux\n",
      "547 olinda\n",
      "548 ciudad guayana\n",
      "549 healdsburg\n",
      "550 hailakandi\n",
      "551 guanambi\n",
      "552 voh\n",
      "553 carutapera\n",
      "554 tabiauea not found\n",
      "555 bonito\n",
      "556 torrijos\n",
      "557 kurchum\n",
      "558 kuche not found\n",
      "559 patu\n",
      "560 forestville\n",
      "561 saldanha\n",
      "562 bismarck\n",
      "563 mwinilunga\n",
      "564 hay river\n",
      "565 kamien pomorski\n",
      "566 silver city\n",
      "567 makinsk\n",
      "568 shahrud\n",
      "569 helena\n",
      "570 winnipeg\n",
      "571 grand gaube\n",
      "572 deer lake\n",
      "573 benjamin aceval\n",
      "574 san isidro\n",
      "575 qarqin\n",
      "576 laguna\n",
      "577 pearland\n",
      "578 griffith\n",
      "579 hualmay\n",
      "580 ahipara\n",
      "581 toliary not found\n",
      "582 marcona not found\n",
      "583 maniitsoq\n",
      "584 olga\n",
      "585 sitka\n",
      "586 paita\n",
      "587 oktyabrskiy\n",
      "588 guiratinga\n",
      "589 vicuna\n"
     ]
    },
    {
     "name": "stdout",
     "output_type": "stream",
     "text": [
      "590 sinazongwe\n",
      "591 puerto rico\n",
      "592 dera bugti\n",
      "593 lazaro cardenas\n",
      "594 auriflama\n",
      "595 pokhara\n",
      "596 doctor pedro p. pena not found\n",
      "597 florianopolis\n",
      "598 lodja\n",
      "599 champerico\n",
      "600 rantauprapat\n",
      "601 jubayl not found\n",
      "602 lieto\n",
      "603 rio de janeiro\n",
      "604 youkounkoun\n",
      "605 majene\n",
      "606 raudeberg\n",
      "607 gustavo diaz ordaz\n",
      "608 satara\n",
      "609 mechanicsville\n",
      "610 paamiut\n",
      "611 sistranda\n",
      "612 port lincoln\n",
      "613 namibe\n",
      "614 imbituba\n",
      "615 the valley\n",
      "616 luebo\n",
      "617 puerto penasco\n",
      "618 dhidhdhoo\n",
      "619 japura\n",
      "620 ojinaga\n",
      "621 vadinsk\n",
      "622 vaitape\n",
      "623 kahului\n",
      "624 yarada\n",
      "625 port shepstone\n",
      "626 ancud\n",
      "627 aloleng\n",
      "628 college\n",
      "629 zilupe\n",
      "630 batemans bay\n",
      "631 taldan\n",
      "632 manchenky\n",
      "633 fortuna\n",
      "634 gobabis\n",
      "635 talitsy\n",
      "636 kota belud\n",
      "637 zambezi\n",
      "638 bokspits not found\n",
      "639 pacific grove\n",
      "640 samarai\n",
      "641 lompoc\n",
      "642 hihifo not found\n",
      "643 mercedes\n",
      "644 santander de quilichao\n"
     ]
    }
   ],
   "source": [
    "#set up list to hold response info\n",
    "\n",
    "city_dicts=[]\n",
    "city_counter = 0\n",
    "\n",
    "for city in cities:\n",
    "    response=requests.get(query_url + city).json()\n",
    "    city_counter+=1 \n",
    "#     if city_counter%50==0:\n",
    "#         time.sleep(.2)\n",
    "    try:\n",
    "    #append lists for scatterplots later\n",
    "        city_dict= {}\n",
    "        city_dict[\"city\"] = city\n",
    "        city_dict[\"country\"] = response['sys']['country']\n",
    "        city_dict[\"date\"] = response['dt']\n",
    "        city_dict[\"lat\"] = response['coord']['lat']\n",
    "        city_dict[\"lng\"] = response['coord']['lon']\n",
    "        city_dict[\"temp\"] = response['main']['temp']\n",
    "        city_dict[\"max temp\"] = response['main']['temp_max']\n",
    "        city_dict[\"humidity\"] =response['main']['humidity']\n",
    "        city_dict[\"cloudiness\"] =response['clouds']['all']\n",
    "        city_dict[\"wind_speed_mph\"] = response['wind']['speed']\n",
    "        city_dicts.append(city_dict)\n",
    "        time.sleep(.2)\n",
    "    #need city number to print\n",
    "        print(f\"{city_counter} {city}\")\n",
    "        \n",
    "    except:\n",
    "        print(f\"{city_counter} {city} not found\")\n",
    "        pass"
   ]
  },
  {
   "cell_type": "markdown",
   "metadata": {},
   "source": [
    "### Convert Raw Data to DataFrame\n",
    "* Export the city data into a .csv.\n",
    "* Display the DataFrame"
   ]
  },
  {
   "cell_type": "code",
   "execution_count": 5,
   "metadata": {},
   "outputs": [
    {
     "data": {
      "text/html": [
       "<div>\n",
       "<style scoped>\n",
       "    .dataframe tbody tr th:only-of-type {\n",
       "        vertical-align: middle;\n",
       "    }\n",
       "\n",
       "    .dataframe tbody tr th {\n",
       "        vertical-align: top;\n",
       "    }\n",
       "\n",
       "    .dataframe thead th {\n",
       "        text-align: right;\n",
       "    }\n",
       "</style>\n",
       "<table border=\"1\" class=\"dataframe\">\n",
       "  <thead>\n",
       "    <tr style=\"text-align: right;\">\n",
       "      <th></th>\n",
       "      <th>city</th>\n",
       "      <th>country</th>\n",
       "      <th>date</th>\n",
       "      <th>lat</th>\n",
       "      <th>lng</th>\n",
       "      <th>temp</th>\n",
       "      <th>max temp</th>\n",
       "      <th>humidity</th>\n",
       "      <th>cloudiness</th>\n",
       "      <th>wind_speed_mph</th>\n",
       "    </tr>\n",
       "  </thead>\n",
       "  <tbody>\n",
       "    <tr>\n",
       "      <th>0</th>\n",
       "      <td>mataura</td>\n",
       "      <td>NZ</td>\n",
       "      <td>1620175024</td>\n",
       "      <td>-46.1927</td>\n",
       "      <td>168.8643</td>\n",
       "      <td>57.99</td>\n",
       "      <td>57.99</td>\n",
       "      <td>52</td>\n",
       "      <td>9</td>\n",
       "      <td>5.01</td>\n",
       "    </tr>\n",
       "    <tr>\n",
       "      <th>1</th>\n",
       "      <td>msowero</td>\n",
       "      <td>TZ</td>\n",
       "      <td>1620175025</td>\n",
       "      <td>-6.5333</td>\n",
       "      <td>37.2000</td>\n",
       "      <td>69.33</td>\n",
       "      <td>69.33</td>\n",
       "      <td>91</td>\n",
       "      <td>100</td>\n",
       "      <td>4.36</td>\n",
       "    </tr>\n",
       "    <tr>\n",
       "      <th>2</th>\n",
       "      <td>hilo</td>\n",
       "      <td>US</td>\n",
       "      <td>1620174797</td>\n",
       "      <td>19.7297</td>\n",
       "      <td>-155.0900</td>\n",
       "      <td>75.78</td>\n",
       "      <td>82.40</td>\n",
       "      <td>57</td>\n",
       "      <td>20</td>\n",
       "      <td>10.36</td>\n",
       "    </tr>\n",
       "    <tr>\n",
       "      <th>3</th>\n",
       "      <td>saskylakh</td>\n",
       "      <td>RU</td>\n",
       "      <td>1620175026</td>\n",
       "      <td>71.9167</td>\n",
       "      <td>114.0833</td>\n",
       "      <td>29.82</td>\n",
       "      <td>29.82</td>\n",
       "      <td>93</td>\n",
       "      <td>100</td>\n",
       "      <td>8.70</td>\n",
       "    </tr>\n",
       "    <tr>\n",
       "      <th>4</th>\n",
       "      <td>nikolskoye</td>\n",
       "      <td>RU</td>\n",
       "      <td>1620175026</td>\n",
       "      <td>59.7035</td>\n",
       "      <td>30.7861</td>\n",
       "      <td>35.20</td>\n",
       "      <td>35.60</td>\n",
       "      <td>93</td>\n",
       "      <td>75</td>\n",
       "      <td>4.47</td>\n",
       "    </tr>\n",
       "    <tr>\n",
       "      <th>...</th>\n",
       "      <td>...</td>\n",
       "      <td>...</td>\n",
       "      <td>...</td>\n",
       "      <td>...</td>\n",
       "      <td>...</td>\n",
       "      <td>...</td>\n",
       "      <td>...</td>\n",
       "      <td>...</td>\n",
       "      <td>...</td>\n",
       "      <td>...</td>\n",
       "    </tr>\n",
       "    <tr>\n",
       "      <th>593</th>\n",
       "      <td>pacific grove</td>\n",
       "      <td>US</td>\n",
       "      <td>1620175362</td>\n",
       "      <td>36.6177</td>\n",
       "      <td>-121.9166</td>\n",
       "      <td>58.32</td>\n",
       "      <td>59.00</td>\n",
       "      <td>83</td>\n",
       "      <td>31</td>\n",
       "      <td>7.85</td>\n",
       "    </tr>\n",
       "    <tr>\n",
       "      <th>594</th>\n",
       "      <td>samarai</td>\n",
       "      <td>PG</td>\n",
       "      <td>1620175412</td>\n",
       "      <td>-10.6167</td>\n",
       "      <td>150.6667</td>\n",
       "      <td>82.24</td>\n",
       "      <td>82.24</td>\n",
       "      <td>72</td>\n",
       "      <td>16</td>\n",
       "      <td>12.08</td>\n",
       "    </tr>\n",
       "    <tr>\n",
       "      <th>595</th>\n",
       "      <td>lompoc</td>\n",
       "      <td>US</td>\n",
       "      <td>1620175412</td>\n",
       "      <td>34.6391</td>\n",
       "      <td>-120.4579</td>\n",
       "      <td>66.87</td>\n",
       "      <td>72.00</td>\n",
       "      <td>59</td>\n",
       "      <td>2</td>\n",
       "      <td>12.66</td>\n",
       "    </tr>\n",
       "    <tr>\n",
       "      <th>596</th>\n",
       "      <td>mercedes</td>\n",
       "      <td>AR</td>\n",
       "      <td>1620175413</td>\n",
       "      <td>-34.6515</td>\n",
       "      <td>-59.4307</td>\n",
       "      <td>51.66</td>\n",
       "      <td>52.00</td>\n",
       "      <td>78</td>\n",
       "      <td>100</td>\n",
       "      <td>1.99</td>\n",
       "    </tr>\n",
       "    <tr>\n",
       "      <th>597</th>\n",
       "      <td>santander de quilichao</td>\n",
       "      <td>CO</td>\n",
       "      <td>1620175414</td>\n",
       "      <td>3.0095</td>\n",
       "      <td>-76.4849</td>\n",
       "      <td>75.20</td>\n",
       "      <td>75.20</td>\n",
       "      <td>64</td>\n",
       "      <td>40</td>\n",
       "      <td>8.05</td>\n",
       "    </tr>\n",
       "  </tbody>\n",
       "</table>\n",
       "<p>598 rows × 10 columns</p>\n",
       "</div>"
      ],
      "text/plain": [
       "                       city country        date      lat       lng   temp  \\\n",
       "0                   mataura      NZ  1620175024 -46.1927  168.8643  57.99   \n",
       "1                   msowero      TZ  1620175025  -6.5333   37.2000  69.33   \n",
       "2                      hilo      US  1620174797  19.7297 -155.0900  75.78   \n",
       "3                 saskylakh      RU  1620175026  71.9167  114.0833  29.82   \n",
       "4                nikolskoye      RU  1620175026  59.7035   30.7861  35.20   \n",
       "..                      ...     ...         ...      ...       ...    ...   \n",
       "593           pacific grove      US  1620175362  36.6177 -121.9166  58.32   \n",
       "594                 samarai      PG  1620175412 -10.6167  150.6667  82.24   \n",
       "595                  lompoc      US  1620175412  34.6391 -120.4579  66.87   \n",
       "596                mercedes      AR  1620175413 -34.6515  -59.4307  51.66   \n",
       "597  santander de quilichao      CO  1620175414   3.0095  -76.4849  75.20   \n",
       "\n",
       "     max temp  humidity  cloudiness  wind_speed_mph  \n",
       "0       57.99        52           9            5.01  \n",
       "1       69.33        91         100            4.36  \n",
       "2       82.40        57          20           10.36  \n",
       "3       29.82        93         100            8.70  \n",
       "4       35.60        93          75            4.47  \n",
       "..        ...       ...         ...             ...  \n",
       "593     59.00        83          31            7.85  \n",
       "594     82.24        72          16           12.08  \n",
       "595     72.00        59           2           12.66  \n",
       "596     52.00        78         100            1.99  \n",
       "597     75.20        64          40            8.05  \n",
       "\n",
       "[598 rows x 10 columns]"
      ]
     },
     "execution_count": 5,
     "metadata": {},
     "output_type": "execute_result"
    }
   ],
   "source": [
    "#Create DataFrame\n",
    "city_weather_df = pd.DataFrame(\n",
    "    city_dicts\n",
    ")\n",
    "\n",
    "city_weather_df"
   ]
  },
  {
   "cell_type": "code",
   "execution_count": 6,
   "metadata": {},
   "outputs": [],
   "source": [
    "city_weather_df.to_csv(\"city_weather.csv\", index=False)"
   ]
  },
  {
   "cell_type": "markdown",
   "metadata": {},
   "source": [
    "## Inspect the data and remove the cities where the humidity > 100%.\n",
    "----\n",
    "Skip this step if there are no cities that have humidity > 100%. "
   ]
  },
  {
   "cell_type": "code",
   "execution_count": 7,
   "metadata": {},
   "outputs": [
    {
     "data": {
      "text/html": [
       "<div>\n",
       "<style scoped>\n",
       "    .dataframe tbody tr th:only-of-type {\n",
       "        vertical-align: middle;\n",
       "    }\n",
       "\n",
       "    .dataframe tbody tr th {\n",
       "        vertical-align: top;\n",
       "    }\n",
       "\n",
       "    .dataframe thead th {\n",
       "        text-align: right;\n",
       "    }\n",
       "</style>\n",
       "<table border=\"1\" class=\"dataframe\">\n",
       "  <thead>\n",
       "    <tr style=\"text-align: right;\">\n",
       "      <th></th>\n",
       "      <th>date</th>\n",
       "      <th>lat</th>\n",
       "      <th>lng</th>\n",
       "      <th>temp</th>\n",
       "      <th>max temp</th>\n",
       "      <th>humidity</th>\n",
       "      <th>cloudiness</th>\n",
       "      <th>wind_speed_mph</th>\n",
       "    </tr>\n",
       "  </thead>\n",
       "  <tbody>\n",
       "    <tr>\n",
       "      <th>count</th>\n",
       "      <td>5.980000e+02</td>\n",
       "      <td>598.000000</td>\n",
       "      <td>598.000000</td>\n",
       "      <td>598.000000</td>\n",
       "      <td>598.000000</td>\n",
       "      <td>598.000000</td>\n",
       "      <td>598.000000</td>\n",
       "      <td>598.000000</td>\n",
       "    </tr>\n",
       "    <tr>\n",
       "      <th>mean</th>\n",
       "      <td>1.620175e+09</td>\n",
       "      <td>18.991460</td>\n",
       "      <td>12.636018</td>\n",
       "      <td>61.851555</td>\n",
       "      <td>62.363512</td>\n",
       "      <td>70.702341</td>\n",
       "      <td>52.670569</td>\n",
       "      <td>7.280853</td>\n",
       "    </tr>\n",
       "    <tr>\n",
       "      <th>std</th>\n",
       "      <td>1.367788e+02</td>\n",
       "      <td>32.969279</td>\n",
       "      <td>89.788613</td>\n",
       "      <td>16.836456</td>\n",
       "      <td>16.958366</td>\n",
       "      <td>21.519849</td>\n",
       "      <td>41.411974</td>\n",
       "      <td>4.860913</td>\n",
       "    </tr>\n",
       "    <tr>\n",
       "      <th>min</th>\n",
       "      <td>1.620175e+09</td>\n",
       "      <td>-54.800000</td>\n",
       "      <td>-175.200000</td>\n",
       "      <td>17.600000</td>\n",
       "      <td>17.600000</td>\n",
       "      <td>6.000000</td>\n",
       "      <td>0.000000</td>\n",
       "      <td>0.220000</td>\n",
       "    </tr>\n",
       "    <tr>\n",
       "      <th>25%</th>\n",
       "      <td>1.620175e+09</td>\n",
       "      <td>-8.904150</td>\n",
       "      <td>-66.290750</td>\n",
       "      <td>49.720000</td>\n",
       "      <td>50.000000</td>\n",
       "      <td>60.000000</td>\n",
       "      <td>6.000000</td>\n",
       "      <td>3.440000</td>\n",
       "    </tr>\n",
       "    <tr>\n",
       "      <th>50%</th>\n",
       "      <td>1.620175e+09</td>\n",
       "      <td>22.628650</td>\n",
       "      <td>17.875550</td>\n",
       "      <td>64.400000</td>\n",
       "      <td>64.400000</td>\n",
       "      <td>75.000000</td>\n",
       "      <td>57.500000</td>\n",
       "      <td>6.285000</td>\n",
       "    </tr>\n",
       "    <tr>\n",
       "      <th>75%</th>\n",
       "      <td>1.620175e+09</td>\n",
       "      <td>46.579250</td>\n",
       "      <td>85.872675</td>\n",
       "      <td>75.802500</td>\n",
       "      <td>75.990000</td>\n",
       "      <td>88.000000</td>\n",
       "      <td>99.000000</td>\n",
       "      <td>10.215000</td>\n",
       "    </tr>\n",
       "    <tr>\n",
       "      <th>max</th>\n",
       "      <td>1.620175e+09</td>\n",
       "      <td>78.218600</td>\n",
       "      <td>178.416700</td>\n",
       "      <td>95.900000</td>\n",
       "      <td>96.800000</td>\n",
       "      <td>100.000000</td>\n",
       "      <td>100.000000</td>\n",
       "      <td>33.380000</td>\n",
       "    </tr>\n",
       "  </tbody>\n",
       "</table>\n",
       "</div>"
      ],
      "text/plain": [
       "               date         lat         lng        temp    max temp  \\\n",
       "count  5.980000e+02  598.000000  598.000000  598.000000  598.000000   \n",
       "mean   1.620175e+09   18.991460   12.636018   61.851555   62.363512   \n",
       "std    1.367788e+02   32.969279   89.788613   16.836456   16.958366   \n",
       "min    1.620175e+09  -54.800000 -175.200000   17.600000   17.600000   \n",
       "25%    1.620175e+09   -8.904150  -66.290750   49.720000   50.000000   \n",
       "50%    1.620175e+09   22.628650   17.875550   64.400000   64.400000   \n",
       "75%    1.620175e+09   46.579250   85.872675   75.802500   75.990000   \n",
       "max    1.620175e+09   78.218600  178.416700   95.900000   96.800000   \n",
       "\n",
       "         humidity  cloudiness  wind_speed_mph  \n",
       "count  598.000000  598.000000      598.000000  \n",
       "mean    70.702341   52.670569        7.280853  \n",
       "std     21.519849   41.411974        4.860913  \n",
       "min      6.000000    0.000000        0.220000  \n",
       "25%     60.000000    6.000000        3.440000  \n",
       "50%     75.000000   57.500000        6.285000  \n",
       "75%     88.000000   99.000000       10.215000  \n",
       "max    100.000000  100.000000       33.380000  "
      ]
     },
     "execution_count": 7,
     "metadata": {},
     "output_type": "execute_result"
    }
   ],
   "source": [
    "city_weather_df.describe()"
   ]
  },
  {
   "cell_type": "code",
   "execution_count": 8,
   "metadata": {},
   "outputs": [
    {
     "data": {
      "text/plain": [
       "Int64Index([], dtype='int64')"
      ]
     },
     "execution_count": 8,
     "metadata": {},
     "output_type": "execute_result"
    }
   ],
   "source": [
    "#  Get the indices of cities that have humidity over 100%.\n",
    "cities_humidity_100 = city_weather_df[city_weather_df['humidity']>100].index\n",
    "\n",
    "cities_humidity_100"
   ]
  },
  {
   "cell_type": "code",
   "execution_count": 9,
   "metadata": {},
   "outputs": [],
   "source": [
    "# Make a new DataFrame equal to the city data to drop all humidity outliers by index.\n",
    "# Passing \"inplace=False\" will make a copy of the city_data DataFrame, which we call \"clean_city_data\".\n",
    "clean_city_data = city_weather_df.drop(cities_humidity_100, inplace = False)"
   ]
  },
  {
   "cell_type": "code",
   "execution_count": 10,
   "metadata": {},
   "outputs": [
    {
     "data": {
      "text/html": [
       "<div>\n",
       "<style scoped>\n",
       "    .dataframe tbody tr th:only-of-type {\n",
       "        vertical-align: middle;\n",
       "    }\n",
       "\n",
       "    .dataframe tbody tr th {\n",
       "        vertical-align: top;\n",
       "    }\n",
       "\n",
       "    .dataframe thead th {\n",
       "        text-align: right;\n",
       "    }\n",
       "</style>\n",
       "<table border=\"1\" class=\"dataframe\">\n",
       "  <thead>\n",
       "    <tr style=\"text-align: right;\">\n",
       "      <th></th>\n",
       "      <th>city</th>\n",
       "      <th>country</th>\n",
       "      <th>date</th>\n",
       "      <th>lat</th>\n",
       "      <th>lng</th>\n",
       "      <th>temp</th>\n",
       "      <th>max temp</th>\n",
       "      <th>humidity</th>\n",
       "      <th>cloudiness</th>\n",
       "      <th>wind_speed_mph</th>\n",
       "    </tr>\n",
       "  </thead>\n",
       "  <tbody>\n",
       "    <tr>\n",
       "      <th>0</th>\n",
       "      <td>mataura</td>\n",
       "      <td>NZ</td>\n",
       "      <td>1620175024</td>\n",
       "      <td>-46.1927</td>\n",
       "      <td>168.8643</td>\n",
       "      <td>57.99</td>\n",
       "      <td>57.99</td>\n",
       "      <td>52</td>\n",
       "      <td>9</td>\n",
       "      <td>5.01</td>\n",
       "    </tr>\n",
       "    <tr>\n",
       "      <th>1</th>\n",
       "      <td>msowero</td>\n",
       "      <td>TZ</td>\n",
       "      <td>1620175025</td>\n",
       "      <td>-6.5333</td>\n",
       "      <td>37.2000</td>\n",
       "      <td>69.33</td>\n",
       "      <td>69.33</td>\n",
       "      <td>91</td>\n",
       "      <td>100</td>\n",
       "      <td>4.36</td>\n",
       "    </tr>\n",
       "    <tr>\n",
       "      <th>2</th>\n",
       "      <td>hilo</td>\n",
       "      <td>US</td>\n",
       "      <td>1620174797</td>\n",
       "      <td>19.7297</td>\n",
       "      <td>-155.0900</td>\n",
       "      <td>75.78</td>\n",
       "      <td>82.40</td>\n",
       "      <td>57</td>\n",
       "      <td>20</td>\n",
       "      <td>10.36</td>\n",
       "    </tr>\n",
       "    <tr>\n",
       "      <th>3</th>\n",
       "      <td>saskylakh</td>\n",
       "      <td>RU</td>\n",
       "      <td>1620175026</td>\n",
       "      <td>71.9167</td>\n",
       "      <td>114.0833</td>\n",
       "      <td>29.82</td>\n",
       "      <td>29.82</td>\n",
       "      <td>93</td>\n",
       "      <td>100</td>\n",
       "      <td>8.70</td>\n",
       "    </tr>\n",
       "    <tr>\n",
       "      <th>4</th>\n",
       "      <td>nikolskoye</td>\n",
       "      <td>RU</td>\n",
       "      <td>1620175026</td>\n",
       "      <td>59.7035</td>\n",
       "      <td>30.7861</td>\n",
       "      <td>35.20</td>\n",
       "      <td>35.60</td>\n",
       "      <td>93</td>\n",
       "      <td>75</td>\n",
       "      <td>4.47</td>\n",
       "    </tr>\n",
       "    <tr>\n",
       "      <th>...</th>\n",
       "      <td>...</td>\n",
       "      <td>...</td>\n",
       "      <td>...</td>\n",
       "      <td>...</td>\n",
       "      <td>...</td>\n",
       "      <td>...</td>\n",
       "      <td>...</td>\n",
       "      <td>...</td>\n",
       "      <td>...</td>\n",
       "      <td>...</td>\n",
       "    </tr>\n",
       "    <tr>\n",
       "      <th>593</th>\n",
       "      <td>pacific grove</td>\n",
       "      <td>US</td>\n",
       "      <td>1620175362</td>\n",
       "      <td>36.6177</td>\n",
       "      <td>-121.9166</td>\n",
       "      <td>58.32</td>\n",
       "      <td>59.00</td>\n",
       "      <td>83</td>\n",
       "      <td>31</td>\n",
       "      <td>7.85</td>\n",
       "    </tr>\n",
       "    <tr>\n",
       "      <th>594</th>\n",
       "      <td>samarai</td>\n",
       "      <td>PG</td>\n",
       "      <td>1620175412</td>\n",
       "      <td>-10.6167</td>\n",
       "      <td>150.6667</td>\n",
       "      <td>82.24</td>\n",
       "      <td>82.24</td>\n",
       "      <td>72</td>\n",
       "      <td>16</td>\n",
       "      <td>12.08</td>\n",
       "    </tr>\n",
       "    <tr>\n",
       "      <th>595</th>\n",
       "      <td>lompoc</td>\n",
       "      <td>US</td>\n",
       "      <td>1620175412</td>\n",
       "      <td>34.6391</td>\n",
       "      <td>-120.4579</td>\n",
       "      <td>66.87</td>\n",
       "      <td>72.00</td>\n",
       "      <td>59</td>\n",
       "      <td>2</td>\n",
       "      <td>12.66</td>\n",
       "    </tr>\n",
       "    <tr>\n",
       "      <th>596</th>\n",
       "      <td>mercedes</td>\n",
       "      <td>AR</td>\n",
       "      <td>1620175413</td>\n",
       "      <td>-34.6515</td>\n",
       "      <td>-59.4307</td>\n",
       "      <td>51.66</td>\n",
       "      <td>52.00</td>\n",
       "      <td>78</td>\n",
       "      <td>100</td>\n",
       "      <td>1.99</td>\n",
       "    </tr>\n",
       "    <tr>\n",
       "      <th>597</th>\n",
       "      <td>santander de quilichao</td>\n",
       "      <td>CO</td>\n",
       "      <td>1620175414</td>\n",
       "      <td>3.0095</td>\n",
       "      <td>-76.4849</td>\n",
       "      <td>75.20</td>\n",
       "      <td>75.20</td>\n",
       "      <td>64</td>\n",
       "      <td>40</td>\n",
       "      <td>8.05</td>\n",
       "    </tr>\n",
       "  </tbody>\n",
       "</table>\n",
       "<p>598 rows × 10 columns</p>\n",
       "</div>"
      ],
      "text/plain": [
       "                       city country        date      lat       lng   temp  \\\n",
       "0                   mataura      NZ  1620175024 -46.1927  168.8643  57.99   \n",
       "1                   msowero      TZ  1620175025  -6.5333   37.2000  69.33   \n",
       "2                      hilo      US  1620174797  19.7297 -155.0900  75.78   \n",
       "3                 saskylakh      RU  1620175026  71.9167  114.0833  29.82   \n",
       "4                nikolskoye      RU  1620175026  59.7035   30.7861  35.20   \n",
       "..                      ...     ...         ...      ...       ...    ...   \n",
       "593           pacific grove      US  1620175362  36.6177 -121.9166  58.32   \n",
       "594                 samarai      PG  1620175412 -10.6167  150.6667  82.24   \n",
       "595                  lompoc      US  1620175412  34.6391 -120.4579  66.87   \n",
       "596                mercedes      AR  1620175413 -34.6515  -59.4307  51.66   \n",
       "597  santander de quilichao      CO  1620175414   3.0095  -76.4849  75.20   \n",
       "\n",
       "     max temp  humidity  cloudiness  wind_speed_mph  \n",
       "0       57.99        52           9            5.01  \n",
       "1       69.33        91         100            4.36  \n",
       "2       82.40        57          20           10.36  \n",
       "3       29.82        93         100            8.70  \n",
       "4       35.60        93          75            4.47  \n",
       "..        ...       ...         ...             ...  \n",
       "593     59.00        83          31            7.85  \n",
       "594     82.24        72          16           12.08  \n",
       "595     72.00        59           2           12.66  \n",
       "596     52.00        78         100            1.99  \n",
       "597     75.20        64          40            8.05  \n",
       "\n",
       "[598 rows x 10 columns]"
      ]
     },
     "execution_count": 10,
     "metadata": {},
     "output_type": "execute_result"
    }
   ],
   "source": [
    "\n",
    "clean_city_data"
   ]
  },
  {
   "cell_type": "markdown",
   "metadata": {},
   "source": [
    "## Plotting the Data\n",
    "* Use proper labeling of the plots using plot titles (including date of analysis) and axes labels.\n",
    "* Save the plotted figures as .pngs."
   ]
  },
  {
   "cell_type": "markdown",
   "metadata": {},
   "source": [
    "## Latitude vs. Temperature Plot"
   ]
  },
  {
   "cell_type": "code",
   "execution_count": 30,
   "metadata": {
    "scrolled": true
   },
   "outputs": [
    {
     "data": {
      "image/png": "[encoded data removed]",
      "text/plain": [
       "<Figure size 432x288 with 1 Axes>"
      ]
     },
     "metadata": {
      "needs_background": "light"
     },
     "output_type": "display_data"
    },
    {
     "name": "stdout",
     "output_type": "stream",
     "text": [
      "This plot is showcasing Latitude and Temp(F) of the cities on the list. You can see almost an upside down U shape, indictating around 0 (the equator) is where we see higher temperatures. The correlation coefficicent between latitude and temperature (F) is -0.54.\n"
     ]
    }
   ],
   "source": [
    "all_lat = clean_city_data['lat']\n",
    "all_temp = clean_city_data['temp']\n",
    "\n",
    "#create scatter plot\n",
    "plt.scatter(all_lat, all_temp)\n",
    "plt.title(\"Latitude vs Temp (F) of All Cities\")\n",
    "plt.xlabel(\"Latitude\")\n",
    "plt.ylabel(\"Temperature (F)\")\n",
    "plt.savefig(\"AllLatTemp.png\")\n",
    "plt.show()\n",
    "\n",
    "\n",
    "print(f\"This plot is showcasing Latitude and Temp(F) of the cities on the list. You can see almost an upside down U shape, indictating around 0 (the equator) is where we see higher temperatures. The correlation coefficicent between latitude and temperature (F) is {round(st.pearsonr(all_lat, all_temp)[0],2)}.\")"
   ]
  },
  {
   "cell_type": "markdown",
   "metadata": {},
   "source": [
    "## Latitude vs. Humidity Plot"
   ]
  },
  {
   "cell_type": "code",
   "execution_count": 31,
   "metadata": {},
   "outputs": [
    {
     "data": {
      "image/png": "[encoded data removed]",
      "text/plain": [
       "<Figure size 432x288 with 1 Axes>"
      ]
     },
     "metadata": {
      "needs_background": "light"
     },
     "output_type": "display_data"
    },
    {
     "name": "stdout",
     "output_type": "stream",
     "text": [
      "This plot is showing Latitude vs. Humidity of all the cities. There is not a strong pattern to show a relationship. The correlation coefficicent between latitude and humidity(%) is -0.18.\n"
     ]
    }
   ],
   "source": [
    "all_humid = clean_city_data['humidity']\n",
    "\n",
    "#create scatter plot\n",
    "plt.scatter(all_lat, all_humid)\n",
    "plt.title(\"Latitude vs Humidity(%) of All Cities\")\n",
    "plt.xlabel(\"Latitude\")\n",
    "plt.ylabel(\"Humidity (%)\")\n",
    "plt.savefig(\"AllLatHumidity.png\")\n",
    "plt.show()\n",
    "\n",
    "\n",
    "print(f\"This plot is showing Latitude vs. Humidity of all the cities. There is not a strong pattern to show a relationship. The correlation coefficicent between latitude and humidity(%) is {round(st.pearsonr(all_lat, all_humid)[0],2)}.\")"
   ]
  },
  {
   "cell_type": "markdown",
   "metadata": {},
   "source": [
    "## Latitude vs. Cloudiness Plot"
   ]
  },
  {
   "cell_type": "code",
   "execution_count": 32,
   "metadata": {
    "scrolled": true
   },
   "outputs": [
    {
     "data": {
      "image/png": "[encoded data removed]",
      "text/plain": [
       "<Figure size 432x288 with 1 Axes>"
      ]
     },
     "metadata": {
      "needs_background": "light"
     },
     "output_type": "display_data"
    },
    {
     "name": "stdout",
     "output_type": "stream",
     "text": [
      "This plot is showing Latitude vs. Cloudiness of the cities. Again, there is not a strong relationship between the two factors. The correlation coefficicent between latitude and cloudiness (%) is 0.05.\n"
     ]
    }
   ],
   "source": [
    "all_clouds = clean_city_data['cloudiness']\n",
    "\n",
    "#create scatter plot\n",
    "plt.scatter(all_lat, all_clouds)\n",
    "plt.title(\"Latitude vs Cloudiness (%) of All Cities\")\n",
    "plt.xlabel(\"Latitude\")\n",
    "plt.ylabel(\"Cloudiness (%)\")\n",
    "plt.savefig(\"AllLatCloudiness.png\")\n",
    "plt.show()\n",
    "\n",
    "\n",
    "print(f\"This plot is showing Latitude vs. Cloudiness of the cities. Again, there is not a strong relationship between the two factors. The correlation coefficicent between latitude and cloudiness (%) is {round(st.pearsonr(all_lat, all_clouds)[0],2)}.\")"
   ]
  },
  {
   "cell_type": "markdown",
   "metadata": {},
   "source": [
    "## Latitude vs. Wind Speed Plot"
   ]
  },
  {
   "cell_type": "code",
   "execution_count": 33,
   "metadata": {},
   "outputs": [
    {
     "data": {
      "image/png": "[encoded data removed]",
      "text/plain": [
       "<Figure size 432x288 with 1 Axes>"
      ]
     },
     "metadata": {
      "needs_background": "light"
     },
     "output_type": "display_data"
    },
    {
     "name": "stdout",
     "output_type": "stream",
     "text": [
      "This plot is showing Latitude vs. Wind Speed (MPH). There is not a strong relationship between the two. Most cities are at 15MPH or lower. The correlation coefficicent between latitude and temp is 0.16.\n"
     ]
    }
   ],
   "source": [
    "all_wind = clean_city_data['wind_speed_mph']\n",
    "\n",
    "#create scatter plot\n",
    "plt.scatter(all_lat, all_wind)\n",
    "plt.title(\"Latitude vs Wind Speed (MPH) of All Cities\")\n",
    "plt.xlabel(\"Latitude\")\n",
    "plt.ylabel(\"Wind Speed (MPH)\")\n",
    "plt.savefig(\"AllLatWindSpeed.png\")\n",
    "plt.show()\n",
    "\n",
    "\n",
    "print(f\"This plot is showing Latitude vs. Wind Speed (MPH). There is not a strong relationship between the two. Most cities are at 15MPH or lower. The correlation coefficicent between latitude and temp is {round(st.pearsonr(all_lat, all_wind)[0],2)}.\")"
   ]
  },
  {
   "cell_type": "markdown",
   "metadata": {},
   "source": [
    "## Linear Regression"
   ]
  },
  {
   "cell_type": "code",
   "execution_count": 15,
   "metadata": {},
   "outputs": [],
   "source": [
    "Northern_H_Cities = clean_city_data[clean_city_data['lat']>=0]\n",
    "NH_Max_Temp = Northern_H_Cities['max temp']\n",
    "NH_Lat = Northern_H_Cities['lat']\n",
    "NH_Humid = Northern_H_Cities['humidity']\n",
    "NH_Clouds = Northern_H_Cities['cloudiness']\n",
    "NH_Wind = Northern_H_Cities['wind_speed_mph']\n",
    "\n",
    "Southern_H_Cities = clean_city_data[clean_city_data['lat']<0]\n",
    "SH_Max_Temp = Southern_H_Cities['max temp']\n",
    "SH_Lat = Southern_H_Cities['lat']\n",
    "SH_Humid = Southern_H_Cities['humidity']\n",
    "SH_Clouds = Southern_H_Cities['cloudiness']\n",
    "SH_Wind = Southern_H_Cities['wind_speed_mph']"
   ]
  },
  {
   "cell_type": "markdown",
   "metadata": {},
   "source": [
    "####  Northern Hemisphere - Max Temp vs. Latitude Linear Regression"
   ]
  },
  {
   "cell_type": "code",
   "execution_count": 43,
   "metadata": {},
   "outputs": [],
   "source": [
    "def linear_1(x, y, title, ylabel, coordinates):\n",
    "    (slope, intercept, rvalue, pvalue, stderr) = linregress(x, y)\n",
    "    regress_values = x * slope + intercept\n",
    "    line_eq = \"y = \" + str(round(slope,2)) + \"x + \" + str(round(intercept,2))\n",
    "    plt.scatter(x, y)\n",
    "    plt.plot(x,regress_values,\"r-\")\n",
    "    plt.annotate(line_eq,coordinates,fontsize=16,color=\"red\")\n",
    "    plt.title(title)\n",
    "    plt.xlabel('Latitude')\n",
    "    plt.ylabel(ylabel)\n",
    "    print(f\"The r-squared is: {rvalue**2}\")\n",
    "    "
   ]
  },
  {
   "cell_type": "code",
   "execution_count": 44,
   "metadata": {
    "scrolled": false
   },
   "outputs": [
    {
     "name": "stdout",
     "output_type": "stream",
     "text": [
      "The r-squared is: 0.7740244183978267\n"
     ]
    },
    {
     "data": {
      "image/png": "[encoded data removed]",
      "text/plain": [
       "<Figure size 432x288 with 1 Axes>"
      ]
     },
     "metadata": {
      "needs_background": "light"
     },
     "output_type": "display_data"
    }
   ],
   "source": [
    "linear_1(NH_Lat, NH_Max_Temp, 'Northern Hemisphere Cities Max Temp', 'Max Temp', (15,20))\n",
    "plt.savefig(\"NH_Temp.png\")\n",
    "plt.show()"
   ]
  },
  {
   "cell_type": "markdown",
   "metadata": {},
   "source": [
    "####  Southern Hemisphere - Max Temp vs. Latitude Linear Regression"
   ]
  },
  {
   "cell_type": "code",
   "execution_count": 45,
   "metadata": {},
   "outputs": [
    {
     "name": "stdout",
     "output_type": "stream",
     "text": [
      "The r-squared is: 0.5016992259206292\n"
     ]
    },
    {
     "data": {
      "image/png": "[encoded data removed]",
      "text/plain": [
       "<Figure size 432x288 with 1 Axes>"
      ]
     },
     "metadata": {
      "needs_background": "light"
     },
     "output_type": "display_data"
    }
   ],
   "source": [
    "linear_1(SH_Lat, SH_Max_Temp, 'Southern Hemisphere Cities Max Temp', 'Max Temp', (-25,40))\n",
    "plt.savefig(\"SH_Temp.png\")\n",
    "plt.show()"
   ]
  },
  {
   "cell_type": "markdown",
   "metadata": {},
   "source": [
    "### Analysis\n",
    "* In both graphs, you see Max Temp rises as you get closer to the Equator (latitude 0)"
   ]
  },
  {
   "cell_type": "markdown",
   "metadata": {},
   "source": [
    "####  Northern Hemisphere - Humidity (%) vs. Latitude Linear Regression"
   ]
  },
  {
   "cell_type": "code",
   "execution_count": 46,
   "metadata": {},
   "outputs": [
    {
     "name": "stdout",
     "output_type": "stream",
     "text": [
      "The r-squared is: 2.2665132393250464e-05\n"
     ]
    },
    {
     "data": {
      "text/plain": [
       "<function matplotlib.pyplot.show(close=None, block=None)>"
      ]
     },
     "execution_count": 46,
     "metadata": {},
     "output_type": "execute_result"
    },
    {
     "data": {
      "image/png": "[encoded data removed]",
      "text/plain": [
       "<Figure size 432x288 with 1 Axes>"
      ]
     },
     "metadata": {
      "needs_background": "light"
     },
     "output_type": "display_data"
    }
   ],
   "source": [
    "linear_1(NH_Lat, NH_Humid, 'Northern Hemisphere Cities Humidity (%)', 'Humidity(%)', (45,10))\n",
    "plt.savefig(\"NH_Humid.png\")\n",
    "plt.show"
   ]
  },
  {
   "cell_type": "markdown",
   "metadata": {},
   "source": [
    "####  Southern Hemisphere - Humidity (%) vs. Latitude Linear Regression"
   ]
  },
  {
   "cell_type": "code",
   "execution_count": 47,
   "metadata": {},
   "outputs": [
    {
     "name": "stdout",
     "output_type": "stream",
     "text": [
      "The r-squared is: 0.07665522375280039\n"
     ]
    },
    {
     "data": {
      "image/png": "[encoded data removed]",
      "text/plain": [
       "<Figure size 432x288 with 1 Axes>"
      ]
     },
     "metadata": {
      "needs_background": "light"
     },
     "output_type": "display_data"
    }
   ],
   "source": [
    "linear_1(SH_Lat, SH_Humid, 'Southern Hemisphere Cities Humidity (%)', 'Humidity (%)', (-25,35))\n",
    "plt.savefig(\"SH_Humid.png\")\n",
    "plt.show()"
   ]
  },
  {
   "cell_type": "markdown",
   "metadata": {},
   "source": [
    "### Analysis \n",
    "* These two graphs are comparing city latitude to humidity. \n",
    "* The northern hemisphere cities do not see a strong relationship and the southern hemisphere cities show a slightly more positive relationship where humidity % increases as you get closer to the equator."
   ]
  },
  {
   "cell_type": "markdown",
   "metadata": {},
   "source": [
    "####  Northern Hemisphere - Cloudiness (%) vs. Latitude Linear Regression"
   ]
  },
  {
   "cell_type": "code",
   "execution_count": 48,
   "metadata": {},
   "outputs": [
    {
     "name": "stdout",
     "output_type": "stream",
     "text": [
      "The r-squared is: 6.607046842486512e-07\n"
     ]
    },
    {
     "data": {
      "image/png": "[encoded data removed]",
      "text/plain": [
       "<Figure size 432x288 with 1 Axes>"
      ]
     },
     "metadata": {
      "needs_background": "light"
     },
     "output_type": "display_data"
    }
   ],
   "source": [
    "linear_1(NH_Lat, NH_Clouds, 'Northern Hemisphere Cities Cloudiness (%)', 'Cloudiness (%)', (45,10))\n",
    "plt.savefig(\"NH_Clouds.png\")\n",
    "plt.show()"
   ]
  },
  {
   "cell_type": "markdown",
   "metadata": {},
   "source": [
    "####  Southern Hemisphere - Cloudiness (%) vs. Latitude Linear Regression"
   ]
  },
  {
   "cell_type": "code",
   "execution_count": 49,
   "metadata": {},
   "outputs": [
    {
     "name": "stdout",
     "output_type": "stream",
     "text": [
      "The r-squared is: 0.05819022235811367\n"
     ]
    },
    {
     "data": {
      "image/png": "[encoded data removed]",
      "text/plain": [
       "<Figure size 432x288 with 1 Axes>"
      ]
     },
     "metadata": {
      "needs_background": "light"
     },
     "output_type": "display_data"
    }
   ],
   "source": [
    "linear_1(SH_Lat, SH_Clouds, 'Southern Hemisphere Cities Cloudiness','Cloudiness (%)', (-30,30))\n",
    "plt.savefig(\"SH_Clouds.png\")\n",
    "plt.show()"
   ]
  },
  {
   "cell_type": "markdown",
   "metadata": {},
   "source": [
    "### Analysis\n",
    "* These graphs are comparing latitude and cloudiness (%). \n",
    "* You see a slightly negative relationship between cloudiness and lat in Northern Hemisphere cities and a slightly positive relationship in Southern Hemisphere cities. \n",
    "* As you get closer to the equator, you see a higher % of cloudiness."
   ]
  },
  {
   "cell_type": "markdown",
   "metadata": {},
   "source": [
    "####  Northern Hemisphere - Wind Speed (mph) vs. Latitude Linear Regression"
   ]
  },
  {
   "cell_type": "code",
   "execution_count": 50,
   "metadata": {},
   "outputs": [
    {
     "name": "stdout",
     "output_type": "stream",
     "text": [
      "The r-squared is: 0.024197027667526214\n"
     ]
    },
    {
     "data": {
      "image/png": "[encoded data removed]",
      "text/plain": [
       "<Figure size 432x288 with 1 Axes>"
      ]
     },
     "metadata": {
      "needs_background": "light"
     },
     "output_type": "display_data"
    }
   ],
   "source": [
    "linear_1(NH_Lat, NH_Wind, 'Northern Hemisphere Cities Wind Speed (MPH)','Wind Speed (MPH)', (30,30))\n",
    "plt.savefig(\"NH_Wind.png\")\n",
    "plt.show()"
   ]
  },
  {
   "cell_type": "markdown",
   "metadata": {},
   "source": [
    "####  Southern Hemisphere - Wind Speed (mph) vs. Latitude Linear Regression"
   ]
  },
  {
   "cell_type": "code",
   "execution_count": 51,
   "metadata": {},
   "outputs": [
    {
     "name": "stdout",
     "output_type": "stream",
     "text": [
      "The r-squared is: 0.040896977498360174\n"
     ]
    },
    {
     "data": {
      "image/png": "[encoded data removed]",
      "text/plain": [
       "<Figure size 432x288 with 1 Axes>"
      ]
     },
     "metadata": {
      "needs_background": "light"
     },
     "output_type": "display_data"
    }
   ],
   "source": [
    "linear_1(SH_Lat, SH_Wind, 'Southern Hemisphere Cities Wind Speed (MPH)','Wind Speed (MPH)', (-30,20))\n",
    "plt.savefig(\"SH_Wind.png\")\n",
    "plt.show()"
   ]
  },
  {
   "cell_type": "markdown",
   "metadata": {},
   "source": [
    "### Analysis\n",
    "* These two graphs are comparing latitude and wind speed. This time we see as the city gets closer to the equator, the wind speed gets lower."
   ]
  },
  {
   "cell_type": "code",
   "execution_count": null,
   "metadata": {},
   "outputs": [],
   "source": []
  },
  {
   "cell_type": "code",
   "execution_count": null,
   "metadata": {},
   "outputs": [],
   "source": []
  }
 ],
 "metadata": {
  "anaconda-cloud": {},
  "kernel_info": {
   "name": "python3"
  },
  "kernelspec": {
   "display_name": "Python 3",
   "language": "python",
   "name": "python3"
  },
  "language_info": {
   "codemirror_mode": {
    "name": "ipython",
    "version": 3
   },
   "file_extension": ".py",
   "mimetype": "text/x-python",
   "name": "python",
   "nbconvert_exporter": "python",
   "pygments_lexer": "ipython3",
   "version": "3.8.5"
  },
  "latex_envs": {
   "LaTeX_envs_menu_present": true,
   "autoclose": false,
   "autocomplete": true,
   "bibliofile": "biblio.bib",
   "cite_by": "apalike",
   "current_citInitial": 1,
   "eqLabelWithNumbers": true,
   "eqNumInitial": 1,
   "hotkeys": {
    "equation": "Ctrl-E",
    "itemize": "Ctrl-I"
   },
   "labels_anchors": false,
   "latex_user_defs": false,
   "report_style_numbering": false,
   "user_envs_cfg": false
  },
  "nteract": {
   "version": "0.12.3"
  }
 },
 "nbformat": 4,
 "nbformat_minor": 2
}
